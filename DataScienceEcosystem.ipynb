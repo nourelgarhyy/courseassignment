{
 "cells": [
  {
   "cell_type": "markdown",
   "id": "a86fe036",
   "metadata": {},
   "source": [
    "# Data Science Ecosystem\n"
   ]
  },
  {
   "cell_type": "markdown",
   "id": "62ef8215",
   "metadata": {},
   "source": [
    "In this notebook, Data Science Tools and Ecosystem are summarized."
   ]
  },
  {
   "cell_type": "markdown",
   "id": "ebd1b2be",
   "metadata": {},
   "source": [
    "Some of the popular languages that Data Scientists use are:\n",
    "<ol>\n",
    "    <li> Python </li> \n",
    "    <li>  R</li> \n",
    "   <li> SQL</li> \n",
    "    \n",
    " </ol>"
   ]
  },
  {
   "cell_type": "markdown",
   "id": "4da6d6ed",
   "metadata": {},
   "source": [
    "Some of the commonly used libraries used by Data Scientists include:"
   ]
  },
  {
   "cell_type": "markdown",
   "id": "6cabe3ed",
   "metadata": {},
   "source": [
    "<ol>\n",
    "    <li> Pandas </li> \n",
    "    <li>  TensorFlow</li> \n",
    "   <li> Numpy</li> \n",
    "    \n",
    " </ol>"
   ]
  },
  {
   "cell_type": "markdown",
   "id": "84ac0650",
   "metadata": {},
   "source": [
    "|Data Science Tools |\n",
    "|-----|\n",
    "|TensorFlow|\n",
    "|python|\n",
    "|Matlab|"
   ]
  },
  {
   "cell_type": "markdown",
   "id": "9283d887",
   "metadata": {},
   "source": [
    "### Below are a few examples of evaluating arithmetic expressions in Python.\n"
   ]
  },
  {
   "cell_type": "code",
   "execution_count": 9,
   "id": "97a15fee",
   "metadata": {},
   "outputs": [
    {
     "data": {
      "text/plain": [
       "17"
      ]
     },
     "execution_count": 9,
     "metadata": {},
     "output_type": "execute_result"
    }
   ],
   "source": [
    "#This a simple arithmetic expression to mutiply then add integers\n",
    "(3*4)+5"
   ]
  },
  {
   "cell_type": "code",
   "execution_count": 10,
   "id": "bbab8bd4",
   "metadata": {},
   "outputs": [
    {
     "data": {
      "text/plain": [
       "3.3333333333333335"
      ]
     },
     "execution_count": 10,
     "metadata": {},
     "output_type": "execute_result"
    }
   ],
   "source": [
    "#This will convert 200 minutes to hours by diving by 60.\n",
    "\n",
    "200/60"
   ]
  },
  {
   "cell_type": "markdown",
   "id": "f5d037a2",
   "metadata": {},
   "source": [
    "<b> Objectives:</b>\n",
    "<ul>\n",
    "    <li> List of populor languages for Data Science </li> \n",
    "    <li>  Commomly used libraries</li> \n",
    "   <li> Evaluating arithmatic expressions</li> \n",
    "    \n",
    " </ul>"
   ]
  },
  {
   "cell_type": "markdown",
   "id": "1f16f559",
   "metadata": {},
   "source": [
    "<h2> Author</h2>\n",
    "Nour Mahmoud Elgarhy"
   ]
  },
  {
   "cell_type": "code",
   "execution_count": null,
   "id": "567f5b19",
   "metadata": {},
   "outputs": [],
   "source": []
  }
 ],
 "metadata": {
  "kernelspec": {
   "display_name": "Python 3.7 (tensorflow)",
   "language": "python",
   "name": "tensorflow"
  },
  "language_info": {
   "codemirror_mode": {
    "name": "ipython",
    "version": 3
   },
   "file_extension": ".py",
   "mimetype": "text/x-python",
   "name": "python",
   "nbconvert_exporter": "python",
   "pygments_lexer": "ipython3",
   "version": "3.8.10"
  },
  "varInspector": {
   "cols": {
    "lenName": 16,
    "lenType": 16,
    "lenVar": 40
   },
   "kernels_config": {
    "python": {
     "delete_cmd_postfix": "",
     "delete_cmd_prefix": "del ",
     "library": "var_list.py",
     "varRefreshCmd": "print(var_dic_list())"
    },
    "r": {
     "delete_cmd_postfix": ") ",
     "delete_cmd_prefix": "rm(",
     "library": "var_list.r",
     "varRefreshCmd": "cat(var_dic_list()) "
    }
   },
   "types_to_exclude": [
    "module",
    "function",
    "builtin_function_or_method",
    "instance",
    "_Feature"
   ],
   "window_display": false
  }
 },
 "nbformat": 4,
 "nbformat_minor": 5
}
